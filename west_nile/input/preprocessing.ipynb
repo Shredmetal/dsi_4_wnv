{
 "cells": [
  {
   "cell_type": "code",
   "execution_count": 39,
   "id": "deaa25d2-cef1-402a-b097-f2077606fc0c",
   "metadata": {},
   "outputs": [],
   "source": [
    "import pandas as pd\n",
    "import numpy as np\n",
    "from geopy.distance import geodesic"
   ]
  },
  {
   "cell_type": "code",
   "execution_count": 92,
   "id": "759e88ec-3d6f-4957-b882-0d134f07cd5a",
   "metadata": {},
   "outputs": [],
   "source": [
    "train_df = pd.read_csv('./train.csv', parse_dates=['Date'])\n",
    "spray_df = pd.read_csv('./spray.csv', parse_dates =['Date', 'Time'])"
   ]
  },
  {
   "cell_type": "code",
   "execution_count": 93,
   "id": "03a60a11-aba5-4ef2-a512-352a016a768d",
   "metadata": {},
   "outputs": [],
   "source": [
    "weather_df = pd.read_csv('weather.csv', \n",
    "                         parse_dates = ['Date', 'Sunrise', 'Sunset'], \n",
    "                         dtype = {\n",
    "                             'Depart':'Int64', \n",
    "                             'WetBulb':'Int64', \n",
    "                             'Heat':'Int64', \n",
    "                             'Cool':'Int64', \n",
    "                             'Depth':'Int64', \n",
    "                             #'SnowFall':'Int64', \n",
    "                             #'PercipTotal':'float64', \n",
    "                             'StnPressure':'float64', \n",
    "                             'SeaLevel':'float64', \n",
    "                             'AvgSpeed':'float64'}, \n",
    "                         na_values = ['M','-'])"
   ]
  },
  {
   "cell_type": "code",
   "execution_count": 75,
   "id": "ce4a0055-cb41-46d6-bc3a-83510982e059",
   "metadata": {},
   "outputs": [
    {
     "name": "stdout",
     "output_type": "stream",
     "text": [
      "<class 'pandas.core.frame.DataFrame'>\n",
      "RangeIndex: 2944 entries, 0 to 2943\n",
      "Data columns (total 22 columns):\n",
      " #   Column       Non-Null Count  Dtype         \n",
      "---  ------       --------------  -----         \n",
      " 0   Station      2944 non-null   int64         \n",
      " 1   Date         2944 non-null   datetime64[ns]\n",
      " 2   Tmax         2944 non-null   int64         \n",
      " 3   Tmin         2944 non-null   int64         \n",
      " 4   Tavg         2933 non-null   float64       \n",
      " 5   Depart       1472 non-null   Int64         \n",
      " 6   DewPoint     2944 non-null   int64         \n",
      " 7   WetBulb      2940 non-null   Int64         \n",
      " 8   Heat         2933 non-null   Int64         \n",
      " 9   Cool         2933 non-null   Int64         \n",
      " 10  Sunrise      1472 non-null   object        \n",
      " 11  Sunset       1472 non-null   object        \n",
      " 12  CodeSum      2944 non-null   object        \n",
      " 13  Depth        1472 non-null   Int64         \n",
      " 14  Water1       0 non-null      float64       \n",
      " 15  SnowFall     1472 non-null   object        \n",
      " 16  PrecipTotal  2942 non-null   object        \n",
      " 17  StnPressure  2940 non-null   float64       \n",
      " 18  SeaLevel     2935 non-null   float64       \n",
      " 19  ResultSpeed  2944 non-null   float64       \n",
      " 20  ResultDir    2944 non-null   int64         \n",
      " 21  AvgSpeed     2941 non-null   float64       \n",
      "dtypes: Int64(5), datetime64[ns](1), float64(6), int64(5), object(5)\n",
      "memory usage: 520.5+ KB\n"
     ]
    }
   ],
   "source": [
    "weather_df.info()"
   ]
  },
  {
   "cell_type": "code",
   "execution_count": 78,
   "id": "a1cd3700-0056-48b5-9e0d-31e1c2cda219",
   "metadata": {},
   "outputs": [
    {
     "data": {
      "text/plain": [
       "Station           0\n",
       "Date              0\n",
       "Tmax              0\n",
       "Tmin              0\n",
       "Tavg             11\n",
       "Depart         1472\n",
       "DewPoint          0\n",
       "WetBulb           4\n",
       "Heat             11\n",
       "Cool             11\n",
       "Sunrise        1472\n",
       "Sunset         1472\n",
       "CodeSum           0\n",
       "Depth          1472\n",
       "Water1         2944\n",
       "SnowFall       1472\n",
       "PrecipTotal       2\n",
       "StnPressure       4\n",
       "SeaLevel          9\n",
       "ResultSpeed       0\n",
       "ResultDir         0\n",
       "AvgSpeed          3\n",
       "dtype: int64"
      ]
     },
     "execution_count": 78,
     "metadata": {},
     "output_type": "execute_result"
    }
   ],
   "source": [
    "weather_df.isnull().sum()"
   ]
  },
  {
   "cell_type": "code",
   "execution_count": 94,
   "id": "214bf0d9-7cac-496f-a830-a09cd50fe9e9",
   "metadata": {},
   "outputs": [],
   "source": [
    "weather_df['PrecipTotal'] = weather_df['PrecipTotal'].map(lambda x: np.nan if x == '  T' else x)\n",
    "weather_df['SnowFall'] = weather_df['SnowFall'].map(lambda x: np.nan if x == '  T' else x)"
   ]
  },
  {
   "cell_type": "code",
   "execution_count": null,
   "id": "521285a6-d1cd-4528-8645-52312a129441",
   "metadata": {},
   "outputs": [
    {
     "data": {
      "text/plain": [
       "Station        0\n",
       "Date           0\n",
       "Tmax           0\n",
       "Tmin           0\n",
       "Tavg           0\n",
       "Depart         0\n",
       "DewPoint       0\n",
       "WetBulb        0\n",
       "Heat           0\n",
       "Cool           0\n",
       "Sunrise        0\n",
       "Sunset         0\n",
       "CodeSum        0\n",
       "Depth          0\n",
       "Water1         0\n",
       "SnowFall       0\n",
       "PrecipTotal    0\n",
       "StnPressure    0\n",
       "SeaLevel       0\n",
       "ResultSpeed    0\n",
       "ResultDir      0\n",
       "AvgSpeed       0\n",
       "dtype: int64"
      ]
     },
     "execution_count": 85,
     "metadata": {},
     "output_type": "execute_result"
    }
   ],
   "source": [
    "weather_df[weather_df['PrecipTotal'] == '  T'].count()"
   ]
  },
  {
   "cell_type": "code",
   "execution_count": 87,
   "id": "3356003d-3627-4114-8282-1a1bcca3d5f4",
   "metadata": {},
   "outputs": [
    {
     "data": {
      "text/plain": [
       "Station        0\n",
       "Date           0\n",
       "Tmax           0\n",
       "Tmin           0\n",
       "Tavg           0\n",
       "Depart         0\n",
       "DewPoint       0\n",
       "WetBulb        0\n",
       "Heat           0\n",
       "Cool           0\n",
       "Sunrise        0\n",
       "Sunset         0\n",
       "CodeSum        0\n",
       "Depth          0\n",
       "Water1         0\n",
       "SnowFall       0\n",
       "PrecipTotal    0\n",
       "StnPressure    0\n",
       "SeaLevel       0\n",
       "ResultSpeed    0\n",
       "ResultDir      0\n",
       "AvgSpeed       0\n",
       "dtype: int64"
      ]
     },
     "execution_count": 87,
     "metadata": {},
     "output_type": "execute_result"
    }
   ],
   "source": [
    "weather_df[weather_df['SnowFall'] == '  T'].count()"
   ]
  },
  {
   "cell_type": "code",
   "execution_count": 88,
   "id": "b4adf150-cc15-47c3-ac88-fc1d912d83ad",
   "metadata": {},
   "outputs": [
    {
     "name": "stdout",
     "output_type": "stream",
     "text": [
      "<class 'pandas.core.frame.DataFrame'>\n",
      "RangeIndex: 2944 entries, 0 to 2943\n",
      "Data columns (total 22 columns):\n",
      " #   Column       Non-Null Count  Dtype         \n",
      "---  ------       --------------  -----         \n",
      " 0   Station      2944 non-null   int64         \n",
      " 1   Date         2944 non-null   datetime64[ns]\n",
      " 2   Tmax         2944 non-null   int64         \n",
      " 3   Tmin         2944 non-null   int64         \n",
      " 4   Tavg         2933 non-null   float64       \n",
      " 5   Depart       1472 non-null   Int64         \n",
      " 6   DewPoint     2944 non-null   int64         \n",
      " 7   WetBulb      2940 non-null   Int64         \n",
      " 8   Heat         2933 non-null   Int64         \n",
      " 9   Cool         2933 non-null   Int64         \n",
      " 10  Sunrise      1472 non-null   object        \n",
      " 11  Sunset       1472 non-null   object        \n",
      " 12  CodeSum      2944 non-null   object        \n",
      " 13  Depth        1472 non-null   Int64         \n",
      " 14  Water1       0 non-null      float64       \n",
      " 15  SnowFall     1460 non-null   object        \n",
      " 16  PrecipTotal  2624 non-null   object        \n",
      " 17  StnPressure  2940 non-null   float64       \n",
      " 18  SeaLevel     2935 non-null   float64       \n",
      " 19  ResultSpeed  2944 non-null   float64       \n",
      " 20  ResultDir    2944 non-null   int64         \n",
      " 21  AvgSpeed     2941 non-null   float64       \n",
      "dtypes: Int64(5), datetime64[ns](1), float64(6), int64(5), object(5)\n",
      "memory usage: 520.5+ KB\n"
     ]
    }
   ],
   "source": [
    "weather_df.info()"
   ]
  },
  {
   "cell_type": "code",
   "execution_count": 95,
   "id": "651c9bf3-f45d-4238-97ee-1d4cc0ee957a",
   "metadata": {},
   "outputs": [],
   "source": [
    "weather_df[['PrecipTotal', 'SnowFall']] = weather_df[['PrecipTotal', 'SnowFall']].apply(pd.to_numeric)"
   ]
  },
  {
   "cell_type": "code",
   "execution_count": 96,
   "id": "e503fa12-267a-436d-906d-5c2b11704350",
   "metadata": {},
   "outputs": [
    {
     "name": "stdout",
     "output_type": "stream",
     "text": [
      "<class 'pandas.core.frame.DataFrame'>\n",
      "RangeIndex: 2944 entries, 0 to 2943\n",
      "Data columns (total 22 columns):\n",
      " #   Column       Non-Null Count  Dtype         \n",
      "---  ------       --------------  -----         \n",
      " 0   Station      2944 non-null   int64         \n",
      " 1   Date         2944 non-null   datetime64[ns]\n",
      " 2   Tmax         2944 non-null   int64         \n",
      " 3   Tmin         2944 non-null   int64         \n",
      " 4   Tavg         2933 non-null   float64       \n",
      " 5   Depart       1472 non-null   Int64         \n",
      " 6   DewPoint     2944 non-null   int64         \n",
      " 7   WetBulb      2940 non-null   Int64         \n",
      " 8   Heat         2933 non-null   Int64         \n",
      " 9   Cool         2933 non-null   Int64         \n",
      " 10  Sunrise      1472 non-null   object        \n",
      " 11  Sunset       1472 non-null   object        \n",
      " 12  CodeSum      2944 non-null   object        \n",
      " 13  Depth        1472 non-null   Int64         \n",
      " 14  Water1       0 non-null      float64       \n",
      " 15  SnowFall     1460 non-null   float64       \n",
      " 16  PrecipTotal  2624 non-null   float64       \n",
      " 17  StnPressure  2940 non-null   float64       \n",
      " 18  SeaLevel     2935 non-null   float64       \n",
      " 19  ResultSpeed  2944 non-null   float64       \n",
      " 20  ResultDir    2944 non-null   int64         \n",
      " 21  AvgSpeed     2941 non-null   float64       \n",
      "dtypes: Int64(5), datetime64[ns](1), float64(8), int64(5), object(3)\n",
      "memory usage: 520.5+ KB\n"
     ]
    }
   ],
   "source": [
    "weather_df.info()"
   ]
  },
  {
   "cell_type": "code",
   "execution_count": 97,
   "id": "662c65a6-a065-47ad-8975-5d6462025bea",
   "metadata": {},
   "outputs": [],
   "source": [
    "def compare_stn(df):\n",
    "    ori_coord = (df['Latitude'], df['Longitude'])\n",
    "    dist_to_stn1 = geodesic(ori_coord, (41.995, -87.993)).kilometers # Comparing distance to Station 1\n",
    "    dist_to_stn2 = geodesic(ori_coord, (41.786, -87.752)).kilometers #Comparing distance to station 2\n",
    "    if dist_to_stn1 <= dist_to_stn1:\n",
    "        return 1\n",
    "    else:\n",
    "        return 2"
   ]
  },
  {
   "cell_type": "code",
   "execution_count": 98,
   "id": "8acfa3dd-c06d-45e7-9b09-a4ce3957983e",
   "metadata": {},
   "outputs": [],
   "source": [
    "# applying function to check if locations are closer to station 1 and 2 and returning the stations accordingly\n",
    "train_df['Station'] = train_df.apply(compare_stn, axis = 1)"
   ]
  },
  {
   "cell_type": "code",
   "execution_count": 99,
   "id": "96fa5fd0-7123-40ea-8bc9-ea6c236d7ed8",
   "metadata": {},
   "outputs": [
    {
     "data": {
      "text/html": [
       "<div>\n",
       "<style scoped>\n",
       "    .dataframe tbody tr th:only-of-type {\n",
       "        vertical-align: middle;\n",
       "    }\n",
       "\n",
       "    .dataframe tbody tr th {\n",
       "        vertical-align: top;\n",
       "    }\n",
       "\n",
       "    .dataframe thead th {\n",
       "        text-align: right;\n",
       "    }\n",
       "</style>\n",
       "<table border=\"1\" class=\"dataframe\">\n",
       "  <thead>\n",
       "    <tr style=\"text-align: right;\">\n",
       "      <th></th>\n",
       "      <th>Date</th>\n",
       "      <th>Address</th>\n",
       "      <th>Species</th>\n",
       "      <th>Block</th>\n",
       "      <th>Street</th>\n",
       "      <th>Trap</th>\n",
       "      <th>AddressNumberAndStreet</th>\n",
       "      <th>Latitude</th>\n",
       "      <th>Longitude</th>\n",
       "      <th>AddressAccuracy</th>\n",
       "      <th>NumMosquitos</th>\n",
       "      <th>WnvPresent</th>\n",
       "      <th>Station</th>\n",
       "    </tr>\n",
       "  </thead>\n",
       "  <tbody>\n",
       "    <tr>\n",
       "      <th>0</th>\n",
       "      <td>2007-05-29</td>\n",
       "      <td>4100 North Oak Park Avenue, Chicago, IL 60634,...</td>\n",
       "      <td>CULEX PIPIENS/RESTUANS</td>\n",
       "      <td>41</td>\n",
       "      <td>N OAK PARK AVE</td>\n",
       "      <td>T002</td>\n",
       "      <td>4100  N OAK PARK AVE, Chicago, IL</td>\n",
       "      <td>41.954690</td>\n",
       "      <td>-87.800991</td>\n",
       "      <td>9</td>\n",
       "      <td>1</td>\n",
       "      <td>0</td>\n",
       "      <td>1</td>\n",
       "    </tr>\n",
       "    <tr>\n",
       "      <th>1</th>\n",
       "      <td>2007-05-29</td>\n",
       "      <td>4100 North Oak Park Avenue, Chicago, IL 60634,...</td>\n",
       "      <td>CULEX RESTUANS</td>\n",
       "      <td>41</td>\n",
       "      <td>N OAK PARK AVE</td>\n",
       "      <td>T002</td>\n",
       "      <td>4100  N OAK PARK AVE, Chicago, IL</td>\n",
       "      <td>41.954690</td>\n",
       "      <td>-87.800991</td>\n",
       "      <td>9</td>\n",
       "      <td>1</td>\n",
       "      <td>0</td>\n",
       "      <td>1</td>\n",
       "    </tr>\n",
       "    <tr>\n",
       "      <th>2</th>\n",
       "      <td>2007-05-29</td>\n",
       "      <td>6200 North Mandell Avenue, Chicago, IL 60646, USA</td>\n",
       "      <td>CULEX RESTUANS</td>\n",
       "      <td>62</td>\n",
       "      <td>N MANDELL AVE</td>\n",
       "      <td>T007</td>\n",
       "      <td>6200  N MANDELL AVE, Chicago, IL</td>\n",
       "      <td>41.994991</td>\n",
       "      <td>-87.769279</td>\n",
       "      <td>9</td>\n",
       "      <td>1</td>\n",
       "      <td>0</td>\n",
       "      <td>1</td>\n",
       "    </tr>\n",
       "    <tr>\n",
       "      <th>3</th>\n",
       "      <td>2007-05-29</td>\n",
       "      <td>7900 West Foster Avenue, Chicago, IL 60656, USA</td>\n",
       "      <td>CULEX PIPIENS/RESTUANS</td>\n",
       "      <td>79</td>\n",
       "      <td>W FOSTER AVE</td>\n",
       "      <td>T015</td>\n",
       "      <td>7900  W FOSTER AVE, Chicago, IL</td>\n",
       "      <td>41.974089</td>\n",
       "      <td>-87.824812</td>\n",
       "      <td>8</td>\n",
       "      <td>1</td>\n",
       "      <td>0</td>\n",
       "      <td>1</td>\n",
       "    </tr>\n",
       "    <tr>\n",
       "      <th>4</th>\n",
       "      <td>2007-05-29</td>\n",
       "      <td>7900 West Foster Avenue, Chicago, IL 60656, USA</td>\n",
       "      <td>CULEX RESTUANS</td>\n",
       "      <td>79</td>\n",
       "      <td>W FOSTER AVE</td>\n",
       "      <td>T015</td>\n",
       "      <td>7900  W FOSTER AVE, Chicago, IL</td>\n",
       "      <td>41.974089</td>\n",
       "      <td>-87.824812</td>\n",
       "      <td>8</td>\n",
       "      <td>4</td>\n",
       "      <td>0</td>\n",
       "      <td>1</td>\n",
       "    </tr>\n",
       "  </tbody>\n",
       "</table>\n",
       "</div>"
      ],
      "text/plain": [
       "        Date                                            Address  \\\n",
       "0 2007-05-29  4100 North Oak Park Avenue, Chicago, IL 60634,...   \n",
       "1 2007-05-29  4100 North Oak Park Avenue, Chicago, IL 60634,...   \n",
       "2 2007-05-29  6200 North Mandell Avenue, Chicago, IL 60646, USA   \n",
       "3 2007-05-29    7900 West Foster Avenue, Chicago, IL 60656, USA   \n",
       "4 2007-05-29    7900 West Foster Avenue, Chicago, IL 60656, USA   \n",
       "\n",
       "                  Species  Block           Street  Trap  \\\n",
       "0  CULEX PIPIENS/RESTUANS     41   N OAK PARK AVE  T002   \n",
       "1          CULEX RESTUANS     41   N OAK PARK AVE  T002   \n",
       "2          CULEX RESTUANS     62    N MANDELL AVE  T007   \n",
       "3  CULEX PIPIENS/RESTUANS     79     W FOSTER AVE  T015   \n",
       "4          CULEX RESTUANS     79     W FOSTER AVE  T015   \n",
       "\n",
       "              AddressNumberAndStreet   Latitude  Longitude  AddressAccuracy  \\\n",
       "0  4100  N OAK PARK AVE, Chicago, IL  41.954690 -87.800991                9   \n",
       "1  4100  N OAK PARK AVE, Chicago, IL  41.954690 -87.800991                9   \n",
       "2   6200  N MANDELL AVE, Chicago, IL  41.994991 -87.769279                9   \n",
       "3    7900  W FOSTER AVE, Chicago, IL  41.974089 -87.824812                8   \n",
       "4    7900  W FOSTER AVE, Chicago, IL  41.974089 -87.824812                8   \n",
       "\n",
       "   NumMosquitos  WnvPresent  Station  \n",
       "0             1           0        1  \n",
       "1             1           0        1  \n",
       "2             1           0        1  \n",
       "3             1           0        1  \n",
       "4             4           0        1  "
      ]
     },
     "execution_count": 99,
     "metadata": {},
     "output_type": "execute_result"
    }
   ],
   "source": [
    "train_df.head()"
   ]
  },
  {
   "cell_type": "code",
   "execution_count": 100,
   "id": "82c5ca00-8b5b-4ce3-9dc0-71d57ec059a4",
   "metadata": {},
   "outputs": [],
   "source": [
    "# merging train and weather data based on date and station\n",
    "df_merge = pd.merge(train_df, weather_df, on = ['Date', 'Station'], how = 'left')"
   ]
  },
  {
   "cell_type": "code",
   "execution_count": 101,
   "id": "329453af-9813-4c52-a83e-1faf2821bfd2",
   "metadata": {},
   "outputs": [
    {
     "name": "stdout",
     "output_type": "stream",
     "text": [
      "<class 'pandas.core.frame.DataFrame'>\n",
      "Int64Index: 10506 entries, 0 to 10505\n",
      "Data columns (total 33 columns):\n",
      " #   Column                  Non-Null Count  Dtype         \n",
      "---  ------                  --------------  -----         \n",
      " 0   Date                    10506 non-null  datetime64[ns]\n",
      " 1   Address                 10506 non-null  object        \n",
      " 2   Species                 10506 non-null  object        \n",
      " 3   Block                   10506 non-null  int64         \n",
      " 4   Street                  10506 non-null  object        \n",
      " 5   Trap                    10506 non-null  object        \n",
      " 6   AddressNumberAndStreet  10506 non-null  object        \n",
      " 7   Latitude                10506 non-null  float64       \n",
      " 8   Longitude               10506 non-null  float64       \n",
      " 9   AddressAccuracy         10506 non-null  int64         \n",
      " 10  NumMosquitos            10506 non-null  int64         \n",
      " 11  WnvPresent              10506 non-null  int64         \n",
      " 12  Station                 10506 non-null  int64         \n",
      " 13  Tmax                    10506 non-null  int64         \n",
      " 14  Tmin                    10506 non-null  int64         \n",
      " 15  Tavg                    10506 non-null  float64       \n",
      " 16  Depart                  10506 non-null  Int64         \n",
      " 17  DewPoint                10506 non-null  int64         \n",
      " 18  WetBulb                 10413 non-null  Int64         \n",
      " 19  Heat                    10506 non-null  Int64         \n",
      " 20  Cool                    10506 non-null  Int64         \n",
      " 21  Sunrise                 10506 non-null  object        \n",
      " 22  Sunset                  10506 non-null  object        \n",
      " 23  CodeSum                 10506 non-null  object        \n",
      " 24  Depth                   10506 non-null  Int64         \n",
      " 25  Water1                  0 non-null      float64       \n",
      " 26  SnowFall                10328 non-null  float64       \n",
      " 27  PrecipTotal             9330 non-null   float64       \n",
      " 28  StnPressure             10413 non-null  float64       \n",
      " 29  SeaLevel                10506 non-null  float64       \n",
      " 30  ResultSpeed             10506 non-null  float64       \n",
      " 31  ResultDir               10506 non-null  int64         \n",
      " 32  AvgSpeed                10506 non-null  float64       \n",
      "dtypes: Int64(5), datetime64[ns](1), float64(10), int64(9), object(8)\n",
      "memory usage: 2.8+ MB\n"
     ]
    }
   ],
   "source": [
    "df_merge.info()"
   ]
  },
  {
   "cell_type": "code",
   "execution_count": 102,
   "id": "17274254-5f90-4010-80ed-a3dbe81784f7",
   "metadata": {},
   "outputs": [],
   "source": [
    "df_merge_overall = pd.merge(df_merge, spray_df, on = ['Latitude', 'Longitude', 'Date'], how = 'left')"
   ]
  },
  {
   "cell_type": "code",
   "execution_count": 103,
   "id": "86cdcb57-37c2-4d1a-9b67-159c143fa924",
   "metadata": {},
   "outputs": [
    {
     "name": "stdout",
     "output_type": "stream",
     "text": [
      "<class 'pandas.core.frame.DataFrame'>\n",
      "Int64Index: 10506 entries, 0 to 10505\n",
      "Data columns (total 34 columns):\n",
      " #   Column                  Non-Null Count  Dtype         \n",
      "---  ------                  --------------  -----         \n",
      " 0   Date                    10506 non-null  datetime64[ns]\n",
      " 1   Address                 10506 non-null  object        \n",
      " 2   Species                 10506 non-null  object        \n",
      " 3   Block                   10506 non-null  int64         \n",
      " 4   Street                  10506 non-null  object        \n",
      " 5   Trap                    10506 non-null  object        \n",
      " 6   AddressNumberAndStreet  10506 non-null  object        \n",
      " 7   Latitude                10506 non-null  float64       \n",
      " 8   Longitude               10506 non-null  float64       \n",
      " 9   AddressAccuracy         10506 non-null  int64         \n",
      " 10  NumMosquitos            10506 non-null  int64         \n",
      " 11  WnvPresent              10506 non-null  int64         \n",
      " 12  Station                 10506 non-null  int64         \n",
      " 13  Tmax                    10506 non-null  int64         \n",
      " 14  Tmin                    10506 non-null  int64         \n",
      " 15  Tavg                    10506 non-null  float64       \n",
      " 16  Depart                  10506 non-null  Int64         \n",
      " 17  DewPoint                10506 non-null  int64         \n",
      " 18  WetBulb                 10413 non-null  Int64         \n",
      " 19  Heat                    10506 non-null  Int64         \n",
      " 20  Cool                    10506 non-null  Int64         \n",
      " 21  Sunrise                 10506 non-null  object        \n",
      " 22  Sunset                  10506 non-null  object        \n",
      " 23  CodeSum                 10506 non-null  object        \n",
      " 24  Depth                   10506 non-null  Int64         \n",
      " 25  Water1                  0 non-null      float64       \n",
      " 26  SnowFall                10328 non-null  float64       \n",
      " 27  PrecipTotal             9330 non-null   float64       \n",
      " 28  StnPressure             10413 non-null  float64       \n",
      " 29  SeaLevel                10506 non-null  float64       \n",
      " 30  ResultSpeed             10506 non-null  float64       \n",
      " 31  ResultDir               10506 non-null  int64         \n",
      " 32  AvgSpeed                10506 non-null  float64       \n",
      " 33  Time                    0 non-null      datetime64[ns]\n",
      "dtypes: Int64(5), datetime64[ns](2), float64(10), int64(9), object(8)\n",
      "memory usage: 2.9+ MB\n"
     ]
    }
   ],
   "source": [
    "df_merge_overall.info()"
   ]
  },
  {
   "cell_type": "code",
   "execution_count": 104,
   "id": "37c8ba09-5d00-462e-b99f-7cd22d7da01a",
   "metadata": {},
   "outputs": [],
   "source": [
    "df_merge_overall.to_csv('merged.csv')"
   ]
  },
  {
   "cell_type": "markdown",
   "id": "c375424f-07f0-40b0-83db-dfdf85cd0dc7",
   "metadata": {},
   "source": [
    "0   Date:10506 non-null  datetime64[ns] -- Date of WNV Test\n",
    " 1   Address:10506 non-null  object -- Location of the Trap\n",
    " 2   Species:10506 non-null  object --Species of Mosquitos\n",
    " 3   Block:10506 non-null  int64 --Block Num in Address\n",
    " 4   Street:10506 non-null  object -- Street Name in Address\n",
    " 5   Trap:10506 non-null  object -- id of trap\n",
    " 6   AddressNumberAndStreet:10506 non-null  object --Adress    \n",
    " 7   Latitude:10506 non-null  float64 --Latitude of Adress\n",
    " 8   Longitude:10506 non-null  float64 --longitude of Adress\n",
    " 9   AddressAccuracy:10506 non-null  int64--Accuracy of address \n",
    " 10  NumMosquitos:10506 non-null  int64-- Num of Mosquitoes caught     \n",
    " 11  WnvPresent:10506 non-null  int64 --Presence of WNV\n",
    " 12  Station:10506 non-null  int64 -- Nearest Weather Station\n",
    " 13  Tmax:10506 non-null  int64 -- Max temp in Fahrenheit\n",
    " 14  Tmin:10506 non-null  int64 --Min temp in Fahrenheit\n",
    " 15  Tavg :10506 non-null  float64 -- Avg temp in Fahrenheit\n",
    " 16  Depart :10506 non-null  int64 --Temp Departure from normal Fahrenheit  \n",
    " 17  DewPoint:10506 non-null  int64 --Average Dewpoint temp  in Fahrenheit    \n",
    " 18  WetBulb:10506 non-null  int64-- Average wet bulb temp in Fahrenheit    \n",
    " 19  Heat:10506 non-null  int64--Abs temp diff of Tavg from base temp (65 deg) if Tavg <  65 deg\n",
    " 20  Cool:10506 non-null  int64  -- Abs temp diff of Tavg from base temp (65 deg) if Tavg >  65 deg     \n",
    " 21  Sunrise: 10506 non-null  object --  Time of Sunrise     \n",
    " 22  Sunset :10506 non-null  object --  Time of Sunset     \n",
    " 23  CodeSum: 10506 non-null  object – Weather Phenomena      \n",
    " 24  Depth: 10506 non-null  int64  -- Snow/ice in inches     \n",
    " 25  Water1:10506 non-null  float64 --   Water equivalent depth    \n",
    " 26  SnowFall: 10506 non-null  float64 --   snowfall in inches and tenths   \n",
    " 27  PrecipTotal: 10506 non-null  float64 -- Rainfall and melted snow in inches and hundredths      \n",
    " 28  StnPressure :10506 non-null  float64 -- Average Station Pressure       \n",
    " 29  SeaLevel :10506 non-null  float64 – Average sea level pressure      \n",
    " 30  ResultSpeed :10506 non-null  float64 --   resultant wind speeds in miles/hr    \n",
    " 31  ResultDir:10506 non-null  int64 --  resultant wind direction in deg       \n",
    " 32  AvgSpeed :10506 non-null  float64  -- average wind sped in miles/h     \n",
    " 33  Time:  0 non-null      datetime64[ns] – Time of Spray\n"
   ]
  }
 ],
 "metadata": {
  "kernelspec": {
   "display_name": "Python 3 (ipykernel)",
   "language": "python",
   "name": "python3"
  },
  "language_info": {
   "codemirror_mode": {
    "name": "ipython",
    "version": 3
   },
   "file_extension": ".py",
   "mimetype": "text/x-python",
   "name": "python",
   "nbconvert_exporter": "python",
   "pygments_lexer": "ipython3",
   "version": "3.10.9"
  }
 },
 "nbformat": 4,
 "nbformat_minor": 5
}
